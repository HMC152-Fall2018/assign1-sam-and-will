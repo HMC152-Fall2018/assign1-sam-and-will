{
 "cells": [
  {
   "cell_type": "markdown",
   "metadata": {},
   "source": [
    "# Team Members: Samuel Tan and William Meng"
   ]
  },
  {
   "cell_type": "markdown",
   "metadata": {},
   "source": [
    "## Importing Data"
   ]
  },
  {
   "cell_type": "code",
   "execution_count": 4,
   "metadata": {
    "collapsed": true
   },
   "outputs": [],
   "source": [
    "# Put these at the top of every notebook, to get automatic reloading and inline plotting\n",
    "%reload_ext autoreload\n",
    "%autoreload 2\n",
    "%matplotlib inline"
   ]
  },
  {
   "cell_type": "code",
   "execution_count": 5,
   "metadata": {
    "collapsed": true
   },
   "outputs": [],
   "source": [
    "# This file contains all the main external libs we'll use\n",
    "from fastai.imports import *"
   ]
  },
  {
   "cell_type": "code",
   "execution_count": 6,
   "metadata": {
    "collapsed": true
   },
   "outputs": [],
   "source": [
    "from fastai.transforms import *\n",
    "from fastai.conv_learner import *\n",
    "from fastai.model import *\n",
    "from fastai.dataset import *\n",
    "from fastai.sgdr import *\n",
    "from fastai.plots import *"
   ]
  },
  {
   "cell_type": "markdown",
   "metadata": {},
   "source": [
    "Use a pretrained neural net, called Resnet34. Set the size of the images to 224 by 224 pixels."
   ]
  },
  {
   "cell_type": "code",
   "execution_count": 7,
   "metadata": {
    "collapsed": true
   },
   "outputs": [],
   "source": [
    "arch=resnet34\n",
    "PATH = \"/content/clouderizer/cs152/data/competitions/dog-breed-identification/\"\n",
    "sz=224"
   ]
  },
  {
   "cell_type": "markdown",
   "metadata": {},
   "source": [
    "Unzip the data files (provided by Kaggle)."
   ]
  },
  {
   "cell_type": "code",
   "execution_count": 8,
   "metadata": {},
   "outputs": [
    {
     "name": "stdout",
     "output_type": "stream",
     "text": [
      "Archive:  sample_submission.csv.zip\n",
      "replace sample_submission.csv? [y]es, [n]o, [A]ll, [N]one, [r]ename: "
     ]
    }
   ],
   "source": [
    "os.chdir(PATH)\n",
    "!unzip '*.zip'"
   ]
  },
  {
   "cell_type": "markdown",
   "metadata": {},
   "source": [
    "Note that this result was from a re-run of the entire notebook, so the files were already unzipped (as the above message shows)."
   ]
  },
  {
   "cell_type": "markdown",
   "metadata": {},
   "source": [
    "Generate randomly sampled validation data from the initial dataset."
   ]
  },
  {
   "cell_type": "code",
   "execution_count": 9,
   "metadata": {},
   "outputs": [
    {
     "data": {
      "text/plain": [
       "array([2882, 4514, 7717, ..., 8922, 6774,   37])"
      ]
     },
     "execution_count": 9,
     "metadata": {},
     "output_type": "execute_result"
    }
   ],
   "source": [
    "label_csv = f'{PATH}labels.csv'\n",
    "n = len(list(open(label_csv)))-1\n",
    "val_idxs = get_cv_idxs(n)\n",
    "val_idxs"
   ]
  },
  {
   "cell_type": "markdown",
   "metadata": {},
   "source": [
    "Format data for model."
   ]
  },
  {
   "cell_type": "code",
   "execution_count": 10,
   "metadata": {
    "collapsed": true
   },
   "outputs": [],
   "source": [
    "data = ImageClassifierData.from_csv(PATH,'train', label_csv, tfms=tfms_from_model(arch,sz), val_idxs=val_idxs, test_name='test', suffix = '.jpg')"
   ]
  },
  {
   "cell_type": "markdown",
   "metadata": {},
   "source": [
    "## Train Model"
   ]
  },
  {
   "cell_type": "markdown",
   "metadata": {},
   "source": [
    "We settled on 7 as the number of epochs when considering underfitting/overfitting (for instance, for 20 epochs the validation loss was over twice that of the training loss). Indeed, we observed that our score was the highest when using 7 epochs."
   ]
  },
  {
   "cell_type": "code",
   "execution_count": 49,
   "metadata": {},
   "outputs": [
    {
     "data": {
      "application/vnd.jupyter.widget-view+json": {
       "model_id": "3fe305c3533c4c39a495d03f90b4902f",
       "version_major": 2,
       "version_minor": 0
      },
      "text/plain": [
       "HBox(children=(IntProgress(value=0, description='Epoch', max=7), HTML(value='')))"
      ]
     },
     "metadata": {},
     "output_type": "display_data"
    },
    {
     "name": "stdout",
     "output_type": "stream",
     "text": [
      "epoch      trn_loss   val_loss   accuracy   \n",
      "    0      2.071434   0.980211   0.77544   \n",
      "    1      1.046492   0.667764   0.828278  \n",
      "    2      0.753494   0.590875   0.824853  \n",
      "    3      0.619193   0.547516   0.832681  \n",
      "    4      0.558535   0.531087   0.840509  \n",
      "    5      0.508794   0.526207   0.834149  \n",
      "    6      0.474092   0.498486   0.845401  \n",
      "\n"
     ]
    },
    {
     "data": {
      "text/plain": [
       "[array([0.49849]), 0.8454011747515131]"
      ]
     },
     "execution_count": 49,
     "metadata": {},
     "output_type": "execute_result"
    }
   ],
   "source": [
    "learn = ConvLearner.pretrained(arch, data, precompute=True)\n",
    "learn.fit(0.01, 7)"
   ]
  },
  {
   "cell_type": "markdown",
   "metadata": {},
   "source": [
    "Generate the probabilities, keeping in mind we need to exponentiate."
   ]
  },
  {
   "cell_type": "code",
   "execution_count": 50,
   "metadata": {
    "collapsed": true
   },
   "outputs": [],
   "source": [
    "log_preds, y = learn.predict_with_targs(is_test=True) # use test dataset rather than validation dataset\n",
    "probs = np.exp(log_preds)"
   ]
  },
  {
   "cell_type": "markdown",
   "metadata": {},
   "source": [
    "Checking the shape."
   ]
  },
  {
   "cell_type": "code",
   "execution_count": 24,
   "metadata": {},
   "outputs": [
    {
     "data": {
      "text/plain": [
       "(10357, 120)"
      ]
     },
     "execution_count": 24,
     "metadata": {},
     "output_type": "execute_result"
    }
   ],
   "source": [
    "probs.shape"
   ]
  },
  {
   "cell_type": "markdown",
   "metadata": {},
   "source": [
    "Checking to make sure that the classes are the dog breeds."
   ]
  },
  {
   "cell_type": "code",
   "execution_count": 14,
   "metadata": {},
   "outputs": [
    {
     "data": {
      "text/plain": [
       "['affenpinscher',\n",
       " 'afghan_hound',\n",
       " 'african_hunting_dog',\n",
       " 'airedale',\n",
       " 'american_staffordshire_terrier',\n",
       " 'appenzeller',\n",
       " 'australian_terrier',\n",
       " 'basenji',\n",
       " 'basset',\n",
       " 'beagle',\n",
       " 'bedlington_terrier',\n",
       " 'bernese_mountain_dog',\n",
       " 'black-and-tan_coonhound',\n",
       " 'blenheim_spaniel',\n",
       " 'bloodhound',\n",
       " 'bluetick',\n",
       " 'border_collie',\n",
       " 'border_terrier',\n",
       " 'borzoi',\n",
       " 'boston_bull',\n",
       " 'bouvier_des_flandres',\n",
       " 'boxer',\n",
       " 'brabancon_griffon',\n",
       " 'briard',\n",
       " 'brittany_spaniel',\n",
       " 'bull_mastiff',\n",
       " 'cairn',\n",
       " 'cardigan',\n",
       " 'chesapeake_bay_retriever',\n",
       " 'chihuahua',\n",
       " 'chow',\n",
       " 'clumber',\n",
       " 'cocker_spaniel',\n",
       " 'collie',\n",
       " 'curly-coated_retriever',\n",
       " 'dandie_dinmont',\n",
       " 'dhole',\n",
       " 'dingo',\n",
       " 'doberman',\n",
       " 'english_foxhound',\n",
       " 'english_setter',\n",
       " 'english_springer',\n",
       " 'entlebucher',\n",
       " 'eskimo_dog',\n",
       " 'flat-coated_retriever',\n",
       " 'french_bulldog',\n",
       " 'german_shepherd',\n",
       " 'german_short-haired_pointer',\n",
       " 'giant_schnauzer',\n",
       " 'golden_retriever',\n",
       " 'gordon_setter',\n",
       " 'great_dane',\n",
       " 'great_pyrenees',\n",
       " 'greater_swiss_mountain_dog',\n",
       " 'groenendael',\n",
       " 'ibizan_hound',\n",
       " 'irish_setter',\n",
       " 'irish_terrier',\n",
       " 'irish_water_spaniel',\n",
       " 'irish_wolfhound',\n",
       " 'italian_greyhound',\n",
       " 'japanese_spaniel',\n",
       " 'keeshond',\n",
       " 'kelpie',\n",
       " 'kerry_blue_terrier',\n",
       " 'komondor',\n",
       " 'kuvasz',\n",
       " 'labrador_retriever',\n",
       " 'lakeland_terrier',\n",
       " 'leonberg',\n",
       " 'lhasa',\n",
       " 'malamute',\n",
       " 'malinois',\n",
       " 'maltese_dog',\n",
       " 'mexican_hairless',\n",
       " 'miniature_pinscher',\n",
       " 'miniature_poodle',\n",
       " 'miniature_schnauzer',\n",
       " 'newfoundland',\n",
       " 'norfolk_terrier',\n",
       " 'norwegian_elkhound',\n",
       " 'norwich_terrier',\n",
       " 'old_english_sheepdog',\n",
       " 'otterhound',\n",
       " 'papillon',\n",
       " 'pekinese',\n",
       " 'pembroke',\n",
       " 'pomeranian',\n",
       " 'pug',\n",
       " 'redbone',\n",
       " 'rhodesian_ridgeback',\n",
       " 'rottweiler',\n",
       " 'saint_bernard',\n",
       " 'saluki',\n",
       " 'samoyed',\n",
       " 'schipperke',\n",
       " 'scotch_terrier',\n",
       " 'scottish_deerhound',\n",
       " 'sealyham_terrier',\n",
       " 'shetland_sheepdog',\n",
       " 'shih-tzu',\n",
       " 'siberian_husky',\n",
       " 'silky_terrier',\n",
       " 'soft-coated_wheaten_terrier',\n",
       " 'staffordshire_bullterrier',\n",
       " 'standard_poodle',\n",
       " 'standard_schnauzer',\n",
       " 'sussex_spaniel',\n",
       " 'tibetan_mastiff',\n",
       " 'tibetan_terrier',\n",
       " 'toy_poodle',\n",
       " 'toy_terrier',\n",
       " 'vizsla',\n",
       " 'walker_hound',\n",
       " 'weimaraner',\n",
       " 'welsh_springer_spaniel',\n",
       " 'west_highland_white_terrier',\n",
       " 'whippet',\n",
       " 'wire-haired_fox_terrier',\n",
       " 'yorkshire_terrier']"
      ]
     },
     "execution_count": 14,
     "metadata": {},
     "output_type": "execute_result"
    }
   ],
   "source": [
    "data.classes"
   ]
  },
  {
   "cell_type": "markdown",
   "metadata": {},
   "source": [
    "Input the probabilities into a dataframe, including a column for the id's (following the sample submission)."
   ]
  },
  {
   "cell_type": "code",
   "execution_count": 51,
   "metadata": {},
   "outputs": [
    {
     "data": {
      "text/html": [
       "<div>\n",
       "<style scoped>\n",
       "    .dataframe tbody tr th:only-of-type {\n",
       "        vertical-align: middle;\n",
       "    }\n",
       "\n",
       "    .dataframe tbody tr th {\n",
       "        vertical-align: top;\n",
       "    }\n",
       "\n",
       "    .dataframe thead th {\n",
       "        text-align: right;\n",
       "    }\n",
       "</style>\n",
       "<table border=\"1\" class=\"dataframe\">\n",
       "  <thead>\n",
       "    <tr style=\"text-align: right;\">\n",
       "      <th></th>\n",
       "      <th>id</th>\n",
       "      <th>affenpinscher</th>\n",
       "      <th>afghan_hound</th>\n",
       "      <th>african_hunting_dog</th>\n",
       "      <th>airedale</th>\n",
       "      <th>american_staffordshire_terrier</th>\n",
       "      <th>appenzeller</th>\n",
       "      <th>australian_terrier</th>\n",
       "      <th>basenji</th>\n",
       "      <th>basset</th>\n",
       "      <th>...</th>\n",
       "      <th>toy_poodle</th>\n",
       "      <th>toy_terrier</th>\n",
       "      <th>vizsla</th>\n",
       "      <th>walker_hound</th>\n",
       "      <th>weimaraner</th>\n",
       "      <th>welsh_springer_spaniel</th>\n",
       "      <th>west_highland_white_terrier</th>\n",
       "      <th>whippet</th>\n",
       "      <th>wire-haired_fox_terrier</th>\n",
       "      <th>yorkshire_terrier</th>\n",
       "    </tr>\n",
       "  </thead>\n",
       "  <tbody>\n",
       "    <tr>\n",
       "      <th>0</th>\n",
       "      <td>433832e6fdc7400cfefd357d2bb889a2</td>\n",
       "      <td>6.316795e-04</td>\n",
       "      <td>2.362755e-05</td>\n",
       "      <td>3.808084e-04</td>\n",
       "      <td>8.694930e-04</td>\n",
       "      <td>2.834617e-03</td>\n",
       "      <td>1.246202e-03</td>\n",
       "      <td>3.501303e-03</td>\n",
       "      <td>2.443731e-04</td>\n",
       "      <td>9.365161e-06</td>\n",
       "      <td>...</td>\n",
       "      <td>7.410989e-04</td>\n",
       "      <td>0.001541</td>\n",
       "      <td>6.541756e-04</td>\n",
       "      <td>9.094047e-05</td>\n",
       "      <td>1.822798e-03</td>\n",
       "      <td>5.940974e-05</td>\n",
       "      <td>4.940692e-04</td>\n",
       "      <td>7.353099e-04</td>\n",
       "      <td>1.866468e-04</td>\n",
       "      <td>1.593384e-02</td>\n",
       "    </tr>\n",
       "    <tr>\n",
       "      <th>1</th>\n",
       "      <td>cecb377c724cd2e385458d8b0eba2a49</td>\n",
       "      <td>4.151429e-07</td>\n",
       "      <td>9.493127e-08</td>\n",
       "      <td>2.533695e-06</td>\n",
       "      <td>7.921800e-07</td>\n",
       "      <td>2.430508e-06</td>\n",
       "      <td>1.327539e-06</td>\n",
       "      <td>7.809668e-08</td>\n",
       "      <td>6.203733e-08</td>\n",
       "      <td>1.710265e-07</td>\n",
       "      <td>...</td>\n",
       "      <td>1.730322e-07</td>\n",
       "      <td>0.000005</td>\n",
       "      <td>3.013215e-03</td>\n",
       "      <td>1.212405e-04</td>\n",
       "      <td>1.042325e-04</td>\n",
       "      <td>8.810629e-07</td>\n",
       "      <td>1.115024e-07</td>\n",
       "      <td>9.364611e-07</td>\n",
       "      <td>4.884091e-06</td>\n",
       "      <td>9.981766e-08</td>\n",
       "    </tr>\n",
       "    <tr>\n",
       "      <th>2</th>\n",
       "      <td>e7ed96b272013c6de9505a753816ce75</td>\n",
       "      <td>2.695915e-05</td>\n",
       "      <td>9.972332e-07</td>\n",
       "      <td>8.504518e-07</td>\n",
       "      <td>3.583614e-06</td>\n",
       "      <td>4.740868e-05</td>\n",
       "      <td>6.382770e-06</td>\n",
       "      <td>9.428740e-01</td>\n",
       "      <td>2.220828e-04</td>\n",
       "      <td>2.381228e-06</td>\n",
       "      <td>...</td>\n",
       "      <td>4.428845e-06</td>\n",
       "      <td>0.000038</td>\n",
       "      <td>3.484718e-06</td>\n",
       "      <td>3.919203e-06</td>\n",
       "      <td>4.444007e-07</td>\n",
       "      <td>1.170891e-05</td>\n",
       "      <td>1.032226e-04</td>\n",
       "      <td>5.828138e-07</td>\n",
       "      <td>1.312689e-05</td>\n",
       "      <td>2.915359e-04</td>\n",
       "    </tr>\n",
       "    <tr>\n",
       "      <th>3</th>\n",
       "      <td>4bf924974410498a1d52d9eb45eb0703</td>\n",
       "      <td>3.461973e-07</td>\n",
       "      <td>1.127799e-07</td>\n",
       "      <td>8.143571e-06</td>\n",
       "      <td>8.684868e-07</td>\n",
       "      <td>5.913324e-06</td>\n",
       "      <td>3.204967e-05</td>\n",
       "      <td>2.728062e-08</td>\n",
       "      <td>1.095674e-06</td>\n",
       "      <td>9.026891e-05</td>\n",
       "      <td>...</td>\n",
       "      <td>9.410955e-08</td>\n",
       "      <td>0.000013</td>\n",
       "      <td>2.192598e-06</td>\n",
       "      <td>1.839617e-02</td>\n",
       "      <td>1.524230e-05</td>\n",
       "      <td>7.352124e-06</td>\n",
       "      <td>3.039453e-07</td>\n",
       "      <td>7.699245e-06</td>\n",
       "      <td>3.000569e-07</td>\n",
       "      <td>5.770946e-08</td>\n",
       "    </tr>\n",
       "    <tr>\n",
       "      <th>4</th>\n",
       "      <td>f9c6eaf6f490f30fdecd76831805d0f7</td>\n",
       "      <td>7.633561e-06</td>\n",
       "      <td>1.983750e-06</td>\n",
       "      <td>3.978221e-07</td>\n",
       "      <td>9.556312e-08</td>\n",
       "      <td>6.355370e-08</td>\n",
       "      <td>2.464959e-07</td>\n",
       "      <td>2.072688e-06</td>\n",
       "      <td>4.335882e-07</td>\n",
       "      <td>2.258121e-06</td>\n",
       "      <td>...</td>\n",
       "      <td>2.677134e-04</td>\n",
       "      <td>0.000001</td>\n",
       "      <td>5.910231e-07</td>\n",
       "      <td>3.988113e-07</td>\n",
       "      <td>2.574534e-07</td>\n",
       "      <td>1.843270e-05</td>\n",
       "      <td>4.230863e-07</td>\n",
       "      <td>1.664037e-08</td>\n",
       "      <td>2.619130e-07</td>\n",
       "      <td>2.910837e-05</td>\n",
       "    </tr>\n",
       "  </tbody>\n",
       "</table>\n",
       "<p>5 rows × 121 columns</p>\n",
       "</div>"
      ],
      "text/plain": [
       "                                 id  affenpinscher  afghan_hound  \\\n",
       "0  433832e6fdc7400cfefd357d2bb889a2   6.316795e-04  2.362755e-05   \n",
       "1  cecb377c724cd2e385458d8b0eba2a49   4.151429e-07  9.493127e-08   \n",
       "2  e7ed96b272013c6de9505a753816ce75   2.695915e-05  9.972332e-07   \n",
       "3  4bf924974410498a1d52d9eb45eb0703   3.461973e-07  1.127799e-07   \n",
       "4  f9c6eaf6f490f30fdecd76831805d0f7   7.633561e-06  1.983750e-06   \n",
       "\n",
       "   african_hunting_dog      airedale  american_staffordshire_terrier  \\\n",
       "0         3.808084e-04  8.694930e-04                    2.834617e-03   \n",
       "1         2.533695e-06  7.921800e-07                    2.430508e-06   \n",
       "2         8.504518e-07  3.583614e-06                    4.740868e-05   \n",
       "3         8.143571e-06  8.684868e-07                    5.913324e-06   \n",
       "4         3.978221e-07  9.556312e-08                    6.355370e-08   \n",
       "\n",
       "    appenzeller  australian_terrier       basenji        basset  \\\n",
       "0  1.246202e-03        3.501303e-03  2.443731e-04  9.365161e-06   \n",
       "1  1.327539e-06        7.809668e-08  6.203733e-08  1.710265e-07   \n",
       "2  6.382770e-06        9.428740e-01  2.220828e-04  2.381228e-06   \n",
       "3  3.204967e-05        2.728062e-08  1.095674e-06  9.026891e-05   \n",
       "4  2.464959e-07        2.072688e-06  4.335882e-07  2.258121e-06   \n",
       "\n",
       "         ...            toy_poodle  toy_terrier        vizsla  walker_hound  \\\n",
       "0        ...          7.410989e-04     0.001541  6.541756e-04  9.094047e-05   \n",
       "1        ...          1.730322e-07     0.000005  3.013215e-03  1.212405e-04   \n",
       "2        ...          4.428845e-06     0.000038  3.484718e-06  3.919203e-06   \n",
       "3        ...          9.410955e-08     0.000013  2.192598e-06  1.839617e-02   \n",
       "4        ...          2.677134e-04     0.000001  5.910231e-07  3.988113e-07   \n",
       "\n",
       "     weimaraner  welsh_springer_spaniel  west_highland_white_terrier  \\\n",
       "0  1.822798e-03            5.940974e-05                 4.940692e-04   \n",
       "1  1.042325e-04            8.810629e-07                 1.115024e-07   \n",
       "2  4.444007e-07            1.170891e-05                 1.032226e-04   \n",
       "3  1.524230e-05            7.352124e-06                 3.039453e-07   \n",
       "4  2.574534e-07            1.843270e-05                 4.230863e-07   \n",
       "\n",
       "        whippet  wire-haired_fox_terrier  yorkshire_terrier  \n",
       "0  7.353099e-04             1.866468e-04       1.593384e-02  \n",
       "1  9.364611e-07             4.884091e-06       9.981766e-08  \n",
       "2  5.828138e-07             1.312689e-05       2.915359e-04  \n",
       "3  7.699245e-06             3.000569e-07       5.770946e-08  \n",
       "4  1.664037e-08             2.619130e-07       2.910837e-05  \n",
       "\n",
       "[5 rows x 121 columns]"
      ]
     },
     "execution_count": 51,
     "metadata": {},
     "output_type": "execute_result"
    }
   ],
   "source": [
    "df = pd.DataFrame(probs)\n",
    "df.columns = data.classes\n",
    "df.insert(0, 'id', [o[5:-4] for o in data.test_ds.fnames])\n",
    "df.head()"
   ]
  },
  {
   "cell_type": "markdown",
   "metadata": {},
   "source": [
    "Save the probabilities into the Kaggle submission format."
   ]
  },
  {
   "cell_type": "code",
   "execution_count": 52,
   "metadata": {
    "collapsed": true
   },
   "outputs": [],
   "source": [
    "SUBM = f'../../out/'\n",
    "os.makedirs(SUBM, exist_ok=True)\n",
    "df.to_csv(f'{SUBM}dogbreed_4.gz', compression='gzip', index=False)"
   ]
  },
  {
   "cell_type": "markdown",
   "metadata": {},
   "source": [
    "![Submission  Result on Kaggle](submission.png)"
   ]
  },
  {
   "cell_type": "code",
   "execution_count": null,
   "metadata": {
    "collapsed": true
   },
   "outputs": [],
   "source": []
  }
 ],
 "metadata": {
  "kernelspec": {
   "display_name": "Python 3",
   "language": "python",
   "name": "python3"
  },
  "language_info": {
   "codemirror_mode": {
    "name": "ipython",
    "version": 3
   },
   "file_extension": ".py",
   "mimetype": "text/x-python",
   "name": "python",
   "nbconvert_exporter": "python",
   "pygments_lexer": "ipython3",
   "version": "3.6.3"
  }
 },
 "nbformat": 4,
 "nbformat_minor": 2
}
